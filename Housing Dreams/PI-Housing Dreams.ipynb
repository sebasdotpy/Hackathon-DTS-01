{
 "cells": [
  {
   "cell_type": "markdown",
   "id": "92aa2b24-0555-4e48-84d2-196c2a1e7dc8",
   "metadata": {},
   "source": [
    "# HOUSE PRICE PREDICTION"
   ]
  },
  {
   "cell_type": "markdown",
   "id": "526ce72d-5497-4500-b255-cca46fcaf13e",
   "metadata": {},
   "source": [
    "## Librerias a usar\n",
    "\n",
    "Importo las librerias que se usaran en la solucion del reto"
   ]
  },
  {
   "cell_type": "code",
   "execution_count": 12,
   "id": "1f002352-36a1-45ff-82a7-87868c0ca0fd",
   "metadata": {},
   "outputs": [],
   "source": [
    "import numpy as np\n",
    "import pandas as pd\n",
    "from sklearn.pipeline import Pipeline\n",
    "from sklearn.model_selection import train_test_split, GridSearchCV, KFold, cross_val_score\n",
    "from sklearn.preprocessing import StandardScaler\n",
    "from sklearn.model_selection import RandomizedSearchCV\n",
    "from sklearn.metrics import mean_squared_log_error,  make_scorer\n",
    "\n",
    "RMSLE = make_scorer(mean_squared_log_error, greater_is_better=False, squared=False)\n",
    "\n",
    "from sklearn.linear_model import LinearRegression\n",
    "from sklearn.ensemble import RandomForestRegressor\n",
    "\n",
    "%matplotlib inline"
   ]
  },
  {
   "cell_type": "markdown",
   "id": "6f56f92a-cc31-4ffa-bbf3-ff7f5af068a3",
   "metadata": {},
   "source": [
    "## Extraccion de los Dataframes"
   ]
  },
  {
   "cell_type": "code",
   "execution_count": 2,
   "id": "54c1d242-335e-4ad6-84fa-b6e4a3cee3b1",
   "metadata": {},
   "outputs": [
    {
     "data": {
      "text/html": [
       "<div>\n",
       "<style scoped>\n",
       "    .dataframe tbody tr th:only-of-type {\n",
       "        vertical-align: middle;\n",
       "    }\n",
       "\n",
       "    .dataframe tbody tr th {\n",
       "        vertical-align: top;\n",
       "    }\n",
       "\n",
       "    .dataframe thead th {\n",
       "        text-align: right;\n",
       "    }\n",
       "</style>\n",
       "<table border=\"1\" class=\"dataframe\">\n",
       "  <thead>\n",
       "    <tr style=\"text-align: right;\">\n",
       "      <th></th>\n",
       "      <th>Id</th>\n",
       "      <th>MSSubClass</th>\n",
       "      <th>MSZoning</th>\n",
       "      <th>LotFrontage</th>\n",
       "      <th>LotArea</th>\n",
       "      <th>Street</th>\n",
       "      <th>Alley</th>\n",
       "      <th>LotShape</th>\n",
       "      <th>LandContour</th>\n",
       "      <th>Utilities</th>\n",
       "      <th>...</th>\n",
       "      <th>PoolArea</th>\n",
       "      <th>PoolQC</th>\n",
       "      <th>Fence</th>\n",
       "      <th>MiscFeature</th>\n",
       "      <th>MiscVal</th>\n",
       "      <th>MoSold</th>\n",
       "      <th>YrSold</th>\n",
       "      <th>SaleType</th>\n",
       "      <th>SaleCondition</th>\n",
       "      <th>SalePrice</th>\n",
       "    </tr>\n",
       "  </thead>\n",
       "  <tbody>\n",
       "    <tr>\n",
       "      <th>0</th>\n",
       "      <td>1</td>\n",
       "      <td>60</td>\n",
       "      <td>RL</td>\n",
       "      <td>65.0</td>\n",
       "      <td>8450</td>\n",
       "      <td>Pave</td>\n",
       "      <td>NaN</td>\n",
       "      <td>Reg</td>\n",
       "      <td>Lvl</td>\n",
       "      <td>AllPub</td>\n",
       "      <td>...</td>\n",
       "      <td>0</td>\n",
       "      <td>NaN</td>\n",
       "      <td>NaN</td>\n",
       "      <td>NaN</td>\n",
       "      <td>0</td>\n",
       "      <td>2</td>\n",
       "      <td>2008</td>\n",
       "      <td>WD</td>\n",
       "      <td>Normal</td>\n",
       "      <td>208500</td>\n",
       "    </tr>\n",
       "    <tr>\n",
       "      <th>1</th>\n",
       "      <td>2</td>\n",
       "      <td>20</td>\n",
       "      <td>RL</td>\n",
       "      <td>80.0</td>\n",
       "      <td>9600</td>\n",
       "      <td>Pave</td>\n",
       "      <td>NaN</td>\n",
       "      <td>Reg</td>\n",
       "      <td>Lvl</td>\n",
       "      <td>AllPub</td>\n",
       "      <td>...</td>\n",
       "      <td>0</td>\n",
       "      <td>NaN</td>\n",
       "      <td>NaN</td>\n",
       "      <td>NaN</td>\n",
       "      <td>0</td>\n",
       "      <td>5</td>\n",
       "      <td>2007</td>\n",
       "      <td>WD</td>\n",
       "      <td>Normal</td>\n",
       "      <td>181500</td>\n",
       "    </tr>\n",
       "    <tr>\n",
       "      <th>2</th>\n",
       "      <td>3</td>\n",
       "      <td>60</td>\n",
       "      <td>RL</td>\n",
       "      <td>68.0</td>\n",
       "      <td>11250</td>\n",
       "      <td>Pave</td>\n",
       "      <td>NaN</td>\n",
       "      <td>IR1</td>\n",
       "      <td>Lvl</td>\n",
       "      <td>AllPub</td>\n",
       "      <td>...</td>\n",
       "      <td>0</td>\n",
       "      <td>NaN</td>\n",
       "      <td>NaN</td>\n",
       "      <td>NaN</td>\n",
       "      <td>0</td>\n",
       "      <td>9</td>\n",
       "      <td>2008</td>\n",
       "      <td>WD</td>\n",
       "      <td>Normal</td>\n",
       "      <td>223500</td>\n",
       "    </tr>\n",
       "    <tr>\n",
       "      <th>3</th>\n",
       "      <td>4</td>\n",
       "      <td>70</td>\n",
       "      <td>RL</td>\n",
       "      <td>60.0</td>\n",
       "      <td>9550</td>\n",
       "      <td>Pave</td>\n",
       "      <td>NaN</td>\n",
       "      <td>IR1</td>\n",
       "      <td>Lvl</td>\n",
       "      <td>AllPub</td>\n",
       "      <td>...</td>\n",
       "      <td>0</td>\n",
       "      <td>NaN</td>\n",
       "      <td>NaN</td>\n",
       "      <td>NaN</td>\n",
       "      <td>0</td>\n",
       "      <td>2</td>\n",
       "      <td>2006</td>\n",
       "      <td>WD</td>\n",
       "      <td>Abnorml</td>\n",
       "      <td>140000</td>\n",
       "    </tr>\n",
       "    <tr>\n",
       "      <th>4</th>\n",
       "      <td>5</td>\n",
       "      <td>60</td>\n",
       "      <td>RL</td>\n",
       "      <td>84.0</td>\n",
       "      <td>14260</td>\n",
       "      <td>Pave</td>\n",
       "      <td>NaN</td>\n",
       "      <td>IR1</td>\n",
       "      <td>Lvl</td>\n",
       "      <td>AllPub</td>\n",
       "      <td>...</td>\n",
       "      <td>0</td>\n",
       "      <td>NaN</td>\n",
       "      <td>NaN</td>\n",
       "      <td>NaN</td>\n",
       "      <td>0</td>\n",
       "      <td>12</td>\n",
       "      <td>2008</td>\n",
       "      <td>WD</td>\n",
       "      <td>Normal</td>\n",
       "      <td>250000</td>\n",
       "    </tr>\n",
       "    <tr>\n",
       "      <th>...</th>\n",
       "      <td>...</td>\n",
       "      <td>...</td>\n",
       "      <td>...</td>\n",
       "      <td>...</td>\n",
       "      <td>...</td>\n",
       "      <td>...</td>\n",
       "      <td>...</td>\n",
       "      <td>...</td>\n",
       "      <td>...</td>\n",
       "      <td>...</td>\n",
       "      <td>...</td>\n",
       "      <td>...</td>\n",
       "      <td>...</td>\n",
       "      <td>...</td>\n",
       "      <td>...</td>\n",
       "      <td>...</td>\n",
       "      <td>...</td>\n",
       "      <td>...</td>\n",
       "      <td>...</td>\n",
       "      <td>...</td>\n",
       "      <td>...</td>\n",
       "    </tr>\n",
       "    <tr>\n",
       "      <th>1455</th>\n",
       "      <td>1456</td>\n",
       "      <td>60</td>\n",
       "      <td>RL</td>\n",
       "      <td>62.0</td>\n",
       "      <td>7917</td>\n",
       "      <td>Pave</td>\n",
       "      <td>NaN</td>\n",
       "      <td>Reg</td>\n",
       "      <td>Lvl</td>\n",
       "      <td>AllPub</td>\n",
       "      <td>...</td>\n",
       "      <td>0</td>\n",
       "      <td>NaN</td>\n",
       "      <td>NaN</td>\n",
       "      <td>NaN</td>\n",
       "      <td>0</td>\n",
       "      <td>8</td>\n",
       "      <td>2007</td>\n",
       "      <td>WD</td>\n",
       "      <td>Normal</td>\n",
       "      <td>175000</td>\n",
       "    </tr>\n",
       "    <tr>\n",
       "      <th>1456</th>\n",
       "      <td>1457</td>\n",
       "      <td>20</td>\n",
       "      <td>RL</td>\n",
       "      <td>85.0</td>\n",
       "      <td>13175</td>\n",
       "      <td>Pave</td>\n",
       "      <td>NaN</td>\n",
       "      <td>Reg</td>\n",
       "      <td>Lvl</td>\n",
       "      <td>AllPub</td>\n",
       "      <td>...</td>\n",
       "      <td>0</td>\n",
       "      <td>NaN</td>\n",
       "      <td>MnPrv</td>\n",
       "      <td>NaN</td>\n",
       "      <td>0</td>\n",
       "      <td>2</td>\n",
       "      <td>2010</td>\n",
       "      <td>WD</td>\n",
       "      <td>Normal</td>\n",
       "      <td>210000</td>\n",
       "    </tr>\n",
       "    <tr>\n",
       "      <th>1457</th>\n",
       "      <td>1458</td>\n",
       "      <td>70</td>\n",
       "      <td>RL</td>\n",
       "      <td>66.0</td>\n",
       "      <td>9042</td>\n",
       "      <td>Pave</td>\n",
       "      <td>NaN</td>\n",
       "      <td>Reg</td>\n",
       "      <td>Lvl</td>\n",
       "      <td>AllPub</td>\n",
       "      <td>...</td>\n",
       "      <td>0</td>\n",
       "      <td>NaN</td>\n",
       "      <td>GdPrv</td>\n",
       "      <td>Shed</td>\n",
       "      <td>2500</td>\n",
       "      <td>5</td>\n",
       "      <td>2010</td>\n",
       "      <td>WD</td>\n",
       "      <td>Normal</td>\n",
       "      <td>266500</td>\n",
       "    </tr>\n",
       "    <tr>\n",
       "      <th>1458</th>\n",
       "      <td>1459</td>\n",
       "      <td>20</td>\n",
       "      <td>RL</td>\n",
       "      <td>68.0</td>\n",
       "      <td>9717</td>\n",
       "      <td>Pave</td>\n",
       "      <td>NaN</td>\n",
       "      <td>Reg</td>\n",
       "      <td>Lvl</td>\n",
       "      <td>AllPub</td>\n",
       "      <td>...</td>\n",
       "      <td>0</td>\n",
       "      <td>NaN</td>\n",
       "      <td>NaN</td>\n",
       "      <td>NaN</td>\n",
       "      <td>0</td>\n",
       "      <td>4</td>\n",
       "      <td>2010</td>\n",
       "      <td>WD</td>\n",
       "      <td>Normal</td>\n",
       "      <td>142125</td>\n",
       "    </tr>\n",
       "    <tr>\n",
       "      <th>1459</th>\n",
       "      <td>1460</td>\n",
       "      <td>20</td>\n",
       "      <td>RL</td>\n",
       "      <td>75.0</td>\n",
       "      <td>9937</td>\n",
       "      <td>Pave</td>\n",
       "      <td>NaN</td>\n",
       "      <td>Reg</td>\n",
       "      <td>Lvl</td>\n",
       "      <td>AllPub</td>\n",
       "      <td>...</td>\n",
       "      <td>0</td>\n",
       "      <td>NaN</td>\n",
       "      <td>NaN</td>\n",
       "      <td>NaN</td>\n",
       "      <td>0</td>\n",
       "      <td>6</td>\n",
       "      <td>2008</td>\n",
       "      <td>WD</td>\n",
       "      <td>Normal</td>\n",
       "      <td>147500</td>\n",
       "    </tr>\n",
       "  </tbody>\n",
       "</table>\n",
       "<p>1460 rows × 81 columns</p>\n",
       "</div>"
      ],
      "text/plain": [
       "        Id  MSSubClass MSZoning  LotFrontage  LotArea Street Alley LotShape  \\\n",
       "0        1          60       RL         65.0     8450   Pave   NaN      Reg   \n",
       "1        2          20       RL         80.0     9600   Pave   NaN      Reg   \n",
       "2        3          60       RL         68.0    11250   Pave   NaN      IR1   \n",
       "3        4          70       RL         60.0     9550   Pave   NaN      IR1   \n",
       "4        5          60       RL         84.0    14260   Pave   NaN      IR1   \n",
       "...    ...         ...      ...          ...      ...    ...   ...      ...   \n",
       "1455  1456          60       RL         62.0     7917   Pave   NaN      Reg   \n",
       "1456  1457          20       RL         85.0    13175   Pave   NaN      Reg   \n",
       "1457  1458          70       RL         66.0     9042   Pave   NaN      Reg   \n",
       "1458  1459          20       RL         68.0     9717   Pave   NaN      Reg   \n",
       "1459  1460          20       RL         75.0     9937   Pave   NaN      Reg   \n",
       "\n",
       "     LandContour Utilities  ... PoolArea PoolQC  Fence MiscFeature MiscVal  \\\n",
       "0            Lvl    AllPub  ...        0    NaN    NaN         NaN       0   \n",
       "1            Lvl    AllPub  ...        0    NaN    NaN         NaN       0   \n",
       "2            Lvl    AllPub  ...        0    NaN    NaN         NaN       0   \n",
       "3            Lvl    AllPub  ...        0    NaN    NaN         NaN       0   \n",
       "4            Lvl    AllPub  ...        0    NaN    NaN         NaN       0   \n",
       "...          ...       ...  ...      ...    ...    ...         ...     ...   \n",
       "1455         Lvl    AllPub  ...        0    NaN    NaN         NaN       0   \n",
       "1456         Lvl    AllPub  ...        0    NaN  MnPrv         NaN       0   \n",
       "1457         Lvl    AllPub  ...        0    NaN  GdPrv        Shed    2500   \n",
       "1458         Lvl    AllPub  ...        0    NaN    NaN         NaN       0   \n",
       "1459         Lvl    AllPub  ...        0    NaN    NaN         NaN       0   \n",
       "\n",
       "     MoSold YrSold  SaleType  SaleCondition  SalePrice  \n",
       "0         2   2008        WD         Normal     208500  \n",
       "1         5   2007        WD         Normal     181500  \n",
       "2         9   2008        WD         Normal     223500  \n",
       "3         2   2006        WD        Abnorml     140000  \n",
       "4        12   2008        WD         Normal     250000  \n",
       "...     ...    ...       ...            ...        ...  \n",
       "1455      8   2007        WD         Normal     175000  \n",
       "1456      2   2010        WD         Normal     210000  \n",
       "1457      5   2010        WD         Normal     266500  \n",
       "1458      4   2010        WD         Normal     142125  \n",
       "1459      6   2008        WD         Normal     147500  \n",
       "\n",
       "[1460 rows x 81 columns]"
      ]
     },
     "execution_count": 2,
     "metadata": {},
     "output_type": "execute_result"
    }
   ],
   "source": [
    "df_test = pd.read_csv(\"houses_test_raw.csv\")\n",
    "df_train = pd.read_csv(\"house_train_raw.csv\")\n",
    "df_train"
   ]
  },
  {
   "cell_type": "markdown",
   "id": "30465202-e549-4e85-84ec-04e21af01226",
   "metadata": {},
   "source": [
    "## Transformacion de los datos"
   ]
  },
  {
   "cell_type": "markdown",
   "id": "c589272d-c1fb-4e1f-b38c-ff2830b626cc",
   "metadata": {},
   "source": [
    "Cree funciones para eliminar los features que contengan mayor cantidad de valores perdidos</br>\n",
    "así como tambien una funcion de preprocesamiento en donde se insertan los datos en crudo y</br>\n",
    "los devuelve estandarizados y en valores numericos"
   ]
  },
  {
   "cell_type": "code",
   "execution_count": 3,
   "id": "fa81ac2f-cf8f-4d47-93ce-d7da6454a17a",
   "metadata": {},
   "outputs": [],
   "source": [
    "def percentage_of_missing_values(df_train, df_test):\n",
    "    # Remove the ID and label columns\n",
    "    target = 'SalePrice'\n",
    "    features = pd.concat(\n",
    "        (df_train.drop(columns=['Id', target]),\n",
    "         df_test.drop(columns=['Id']))\n",
    "    )\n",
    "    top_missing = features.isnull().sum()/len(features)*100\n",
    "    return top_missing.sort_values(ascending=False)[:4]\n",
    "\n",
    "df_train.drop(columns=list(percentage_of_missing_values(df_train, df_test).index), inplace=True)\n",
    "df_test.drop(columns=list(percentage_of_missing_values(df_train, df_test).index), inplace=True)"
   ]
  },
  {
   "cell_type": "code",
   "execution_count": 4,
   "id": "3445740c-e7ef-4c92-8063-41cb63fe2820",
   "metadata": {},
   "outputs": [],
   "source": [
    "def preprocess(df_train, df_test):\n",
    "    # Remove the ID and label columns\n",
    "    target = 'SalePrice'\n",
    "    features = pd.concat(\n",
    "        (df_train.drop(columns=['Id', target]),\n",
    "         df_test.drop(columns=['Id']))\n",
    "    )\n",
    "    # Standardize numerical columns\n",
    "    numeric_features = features.dtypes[features.dtypes != 'object'].index\n",
    "    standar_scaler = StandardScaler()\n",
    "    features[numeric_features] = standar_scaler.fit_transform(features[numeric_features])\n",
    "\n",
    "    # Replace NAN numerical features by 0\n",
    "    features[numeric_features] = features[numeric_features].fillna(0)\n",
    "    \n",
    "    # Replace discrete features by one-hot encoding.      \n",
    "    features = pd.get_dummies(features, dummy_na=True)\n",
    "\n",
    "    # Save preprocessed features\n",
    "    df_train_new = features[:df_train.shape[0]].copy()\n",
    "    df_train_new[target] = df_train[target]\n",
    "    df_test_new = features[df_test.shape[0]:].copy()\n",
    "    \n",
    "    return df_train_new, df_test_new"
   ]
  },
  {
   "cell_type": "code",
   "execution_count": 5,
   "id": "fac96822-e040-4469-8438-1d0bb0ae7994",
   "metadata": {},
   "outputs": [
    {
     "data": {
      "text/html": [
       "<div>\n",
       "<style scoped>\n",
       "    .dataframe tbody tr th:only-of-type {\n",
       "        vertical-align: middle;\n",
       "    }\n",
       "\n",
       "    .dataframe tbody tr th {\n",
       "        vertical-align: top;\n",
       "    }\n",
       "\n",
       "    .dataframe thead th {\n",
       "        text-align: right;\n",
       "    }\n",
       "</style>\n",
       "<table border=\"1\" class=\"dataframe\">\n",
       "  <thead>\n",
       "    <tr style=\"text-align: right;\">\n",
       "      <th></th>\n",
       "      <th>MSSubClass</th>\n",
       "      <th>LotFrontage</th>\n",
       "      <th>LotArea</th>\n",
       "      <th>OverallQual</th>\n",
       "      <th>OverallCond</th>\n",
       "      <th>YearBuilt</th>\n",
       "      <th>YearRemodAdd</th>\n",
       "      <th>MasVnrArea</th>\n",
       "      <th>BsmtFinSF1</th>\n",
       "      <th>BsmtFinSF2</th>\n",
       "      <th>...</th>\n",
       "      <th>SaleType_WD</th>\n",
       "      <th>SaleType_nan</th>\n",
       "      <th>SaleCondition_Abnorml</th>\n",
       "      <th>SaleCondition_AdjLand</th>\n",
       "      <th>SaleCondition_Alloca</th>\n",
       "      <th>SaleCondition_Family</th>\n",
       "      <th>SaleCondition_Normal</th>\n",
       "      <th>SaleCondition_Partial</th>\n",
       "      <th>SaleCondition_nan</th>\n",
       "      <th>SalePrice</th>\n",
       "    </tr>\n",
       "  </thead>\n",
       "  <tbody>\n",
       "    <tr>\n",
       "      <th>0</th>\n",
       "      <td>0.067331</td>\n",
       "      <td>-0.184481</td>\n",
       "      <td>-0.217879</td>\n",
       "      <td>0.646183</td>\n",
       "      <td>-0.507284</td>\n",
       "      <td>1.046258</td>\n",
       "      <td>0.896833</td>\n",
       "      <td>0.523129</td>\n",
       "      <td>0.580807</td>\n",
       "      <td>-0.29308</td>\n",
       "      <td>...</td>\n",
       "      <td>1</td>\n",
       "      <td>0</td>\n",
       "      <td>0</td>\n",
       "      <td>0</td>\n",
       "      <td>0</td>\n",
       "      <td>0</td>\n",
       "      <td>1</td>\n",
       "      <td>0</td>\n",
       "      <td>0</td>\n",
       "      <td>208500</td>\n",
       "    </tr>\n",
       "    <tr>\n",
       "      <th>1</th>\n",
       "      <td>-0.873616</td>\n",
       "      <td>0.458190</td>\n",
       "      <td>-0.072044</td>\n",
       "      <td>-0.063185</td>\n",
       "      <td>2.188279</td>\n",
       "      <td>0.154764</td>\n",
       "      <td>-0.395604</td>\n",
       "      <td>-0.569991</td>\n",
       "      <td>1.177910</td>\n",
       "      <td>-0.29308</td>\n",
       "      <td>...</td>\n",
       "      <td>1</td>\n",
       "      <td>0</td>\n",
       "      <td>0</td>\n",
       "      <td>0</td>\n",
       "      <td>0</td>\n",
       "      <td>0</td>\n",
       "      <td>1</td>\n",
       "      <td>0</td>\n",
       "      <td>0</td>\n",
       "      <td>181500</td>\n",
       "    </tr>\n",
       "    <tr>\n",
       "      <th>2</th>\n",
       "      <td>0.067331</td>\n",
       "      <td>-0.055946</td>\n",
       "      <td>0.137197</td>\n",
       "      <td>0.646183</td>\n",
       "      <td>-0.507284</td>\n",
       "      <td>0.980221</td>\n",
       "      <td>0.848965</td>\n",
       "      <td>0.333506</td>\n",
       "      <td>0.097856</td>\n",
       "      <td>-0.29308</td>\n",
       "      <td>...</td>\n",
       "      <td>1</td>\n",
       "      <td>0</td>\n",
       "      <td>0</td>\n",
       "      <td>0</td>\n",
       "      <td>0</td>\n",
       "      <td>0</td>\n",
       "      <td>1</td>\n",
       "      <td>0</td>\n",
       "      <td>0</td>\n",
       "      <td>223500</td>\n",
       "    </tr>\n",
       "    <tr>\n",
       "      <th>3</th>\n",
       "      <td>0.302568</td>\n",
       "      <td>-0.398704</td>\n",
       "      <td>-0.078385</td>\n",
       "      <td>0.646183</td>\n",
       "      <td>-0.507284</td>\n",
       "      <td>-1.859351</td>\n",
       "      <td>-0.682812</td>\n",
       "      <td>-0.569991</td>\n",
       "      <td>-0.494856</td>\n",
       "      <td>-0.29308</td>\n",
       "      <td>...</td>\n",
       "      <td>1</td>\n",
       "      <td>0</td>\n",
       "      <td>1</td>\n",
       "      <td>0</td>\n",
       "      <td>0</td>\n",
       "      <td>0</td>\n",
       "      <td>0</td>\n",
       "      <td>0</td>\n",
       "      <td>0</td>\n",
       "      <td>140000</td>\n",
       "    </tr>\n",
       "    <tr>\n",
       "      <th>4</th>\n",
       "      <td>0.067331</td>\n",
       "      <td>0.629569</td>\n",
       "      <td>0.518903</td>\n",
       "      <td>1.355551</td>\n",
       "      <td>-0.507284</td>\n",
       "      <td>0.947203</td>\n",
       "      <td>0.753229</td>\n",
       "      <td>1.382009</td>\n",
       "      <td>0.468851</td>\n",
       "      <td>-0.29308</td>\n",
       "      <td>...</td>\n",
       "      <td>1</td>\n",
       "      <td>0</td>\n",
       "      <td>0</td>\n",
       "      <td>0</td>\n",
       "      <td>0</td>\n",
       "      <td>0</td>\n",
       "      <td>1</td>\n",
       "      <td>0</td>\n",
       "      <td>0</td>\n",
       "      <td>250000</td>\n",
       "    </tr>\n",
       "  </tbody>\n",
       "</table>\n",
       "<p>5 rows × 315 columns</p>\n",
       "</div>"
      ],
      "text/plain": [
       "   MSSubClass  LotFrontage   LotArea  OverallQual  OverallCond  YearBuilt  \\\n",
       "0    0.067331    -0.184481 -0.217879     0.646183    -0.507284   1.046258   \n",
       "1   -0.873616     0.458190 -0.072044    -0.063185     2.188279   0.154764   \n",
       "2    0.067331    -0.055946  0.137197     0.646183    -0.507284   0.980221   \n",
       "3    0.302568    -0.398704 -0.078385     0.646183    -0.507284  -1.859351   \n",
       "4    0.067331     0.629569  0.518903     1.355551    -0.507284   0.947203   \n",
       "\n",
       "   YearRemodAdd  MasVnrArea  BsmtFinSF1  BsmtFinSF2  ...  SaleType_WD  \\\n",
       "0      0.896833    0.523129    0.580807    -0.29308  ...            1   \n",
       "1     -0.395604   -0.569991    1.177910    -0.29308  ...            1   \n",
       "2      0.848965    0.333506    0.097856    -0.29308  ...            1   \n",
       "3     -0.682812   -0.569991   -0.494856    -0.29308  ...            1   \n",
       "4      0.753229    1.382009    0.468851    -0.29308  ...            1   \n",
       "\n",
       "   SaleType_nan  SaleCondition_Abnorml  SaleCondition_AdjLand  \\\n",
       "0             0                      0                      0   \n",
       "1             0                      0                      0   \n",
       "2             0                      0                      0   \n",
       "3             0                      1                      0   \n",
       "4             0                      0                      0   \n",
       "\n",
       "   SaleCondition_Alloca  SaleCondition_Family  SaleCondition_Normal  \\\n",
       "0                     0                     0                     1   \n",
       "1                     0                     0                     1   \n",
       "2                     0                     0                     1   \n",
       "3                     0                     0                     0   \n",
       "4                     0                     0                     1   \n",
       "\n",
       "   SaleCondition_Partial  SaleCondition_nan  SalePrice  \n",
       "0                      0                  0     208500  \n",
       "1                      0                  0     181500  \n",
       "2                      0                  0     223500  \n",
       "3                      0                  0     140000  \n",
       "4                      0                  0     250000  \n",
       "\n",
       "[5 rows x 315 columns]"
      ]
     },
     "execution_count": 5,
     "metadata": {},
     "output_type": "execute_result"
    }
   ],
   "source": [
    "data_train, data_test = preprocess(df_train, df_test)\n",
    "data_train.head()"
   ]
  },
  {
   "cell_type": "markdown",
   "id": "6b8e3121-50c0-464f-b574-072146e06ec3",
   "metadata": {},
   "source": [
    "Separados los datos en inputs y output"
   ]
  },
  {
   "cell_type": "code",
   "execution_count": 6,
   "id": "e4e74eea-4131-487b-9b5b-54df31fa6324",
   "metadata": {},
   "outputs": [],
   "source": [
    "X = data_train.drop(columns=[\"SalePrice\"])\n",
    "y = data_train[\"SalePrice\"]"
   ]
  },
  {
   "cell_type": "code",
   "execution_count": 7,
   "id": "ceee7f33-3a6f-489e-9954-0e94999685ec",
   "metadata": {},
   "outputs": [],
   "source": [
    "X_train, X_test, y_train, y_test = train_test_split(X, y, random_state=42, train_size=0.8)"
   ]
  },
  {
   "cell_type": "markdown",
   "id": "e9f109d6-7f0c-47da-a3c1-a2c383f169da",
   "metadata": {},
   "source": [
    "## RANDOM FOREST REGRESSOR"
   ]
  },
  {
   "cell_type": "markdown",
   "id": "827b22c8-b196-42a6-83cc-0797a661657f",
   "metadata": {},
   "source": [
    "Como modelo para dar solucion a este reto elegí RandomForestRegressor de scikit-learn</br>\n",
    "ya que dada la naturaleza de nuestros datos me parecio la mejor elección sobre una </br>\n",
    "regresion lineal u otros métodos"
   ]
  },
  {
   "cell_type": "code",
   "execution_count": 8,
   "id": "4394e1ae-de7d-4666-b23d-6257014c06b9",
   "metadata": {},
   "outputs": [],
   "source": [
    "RF = RandomForestRegressor()"
   ]
  },
  {
   "cell_type": "code",
   "execution_count": 9,
   "id": "9cc12382-85f5-42e1-a60b-dea6e9638cb8",
   "metadata": {},
   "outputs": [
    {
     "data": {
      "text/html": [
       "<style>#sk-container-id-1 {color: black;background-color: white;}#sk-container-id-1 pre{padding: 0;}#sk-container-id-1 div.sk-toggleable {background-color: white;}#sk-container-id-1 label.sk-toggleable__label {cursor: pointer;display: block;width: 100%;margin-bottom: 0;padding: 0.3em;box-sizing: border-box;text-align: center;}#sk-container-id-1 label.sk-toggleable__label-arrow:before {content: \"▸\";float: left;margin-right: 0.25em;color: #696969;}#sk-container-id-1 label.sk-toggleable__label-arrow:hover:before {color: black;}#sk-container-id-1 div.sk-estimator:hover label.sk-toggleable__label-arrow:before {color: black;}#sk-container-id-1 div.sk-toggleable__content {max-height: 0;max-width: 0;overflow: hidden;text-align: left;background-color: #f0f8ff;}#sk-container-id-1 div.sk-toggleable__content pre {margin: 0.2em;color: black;border-radius: 0.25em;background-color: #f0f8ff;}#sk-container-id-1 input.sk-toggleable__control:checked~div.sk-toggleable__content {max-height: 200px;max-width: 100%;overflow: auto;}#sk-container-id-1 input.sk-toggleable__control:checked~label.sk-toggleable__label-arrow:before {content: \"▾\";}#sk-container-id-1 div.sk-estimator input.sk-toggleable__control:checked~label.sk-toggleable__label {background-color: #d4ebff;}#sk-container-id-1 div.sk-label input.sk-toggleable__control:checked~label.sk-toggleable__label {background-color: #d4ebff;}#sk-container-id-1 input.sk-hidden--visually {border: 0;clip: rect(1px 1px 1px 1px);clip: rect(1px, 1px, 1px, 1px);height: 1px;margin: -1px;overflow: hidden;padding: 0;position: absolute;width: 1px;}#sk-container-id-1 div.sk-estimator {font-family: monospace;background-color: #f0f8ff;border: 1px dotted black;border-radius: 0.25em;box-sizing: border-box;margin-bottom: 0.5em;}#sk-container-id-1 div.sk-estimator:hover {background-color: #d4ebff;}#sk-container-id-1 div.sk-parallel-item::after {content: \"\";width: 100%;border-bottom: 1px solid gray;flex-grow: 1;}#sk-container-id-1 div.sk-label:hover label.sk-toggleable__label {background-color: #d4ebff;}#sk-container-id-1 div.sk-serial::before {content: \"\";position: absolute;border-left: 1px solid gray;box-sizing: border-box;top: 0;bottom: 0;left: 50%;z-index: 0;}#sk-container-id-1 div.sk-serial {display: flex;flex-direction: column;align-items: center;background-color: white;padding-right: 0.2em;padding-left: 0.2em;position: relative;}#sk-container-id-1 div.sk-item {position: relative;z-index: 1;}#sk-container-id-1 div.sk-parallel {display: flex;align-items: stretch;justify-content: center;background-color: white;position: relative;}#sk-container-id-1 div.sk-item::before, #sk-container-id-1 div.sk-parallel-item::before {content: \"\";position: absolute;border-left: 1px solid gray;box-sizing: border-box;top: 0;bottom: 0;left: 50%;z-index: -1;}#sk-container-id-1 div.sk-parallel-item {display: flex;flex-direction: column;z-index: 1;position: relative;background-color: white;}#sk-container-id-1 div.sk-parallel-item:first-child::after {align-self: flex-end;width: 50%;}#sk-container-id-1 div.sk-parallel-item:last-child::after {align-self: flex-start;width: 50%;}#sk-container-id-1 div.sk-parallel-item:only-child::after {width: 0;}#sk-container-id-1 div.sk-dashed-wrapped {border: 1px dashed gray;margin: 0 0.4em 0.5em 0.4em;box-sizing: border-box;padding-bottom: 0.4em;background-color: white;}#sk-container-id-1 div.sk-label label {font-family: monospace;font-weight: bold;display: inline-block;line-height: 1.2em;}#sk-container-id-1 div.sk-label-container {text-align: center;}#sk-container-id-1 div.sk-container {/* jupyter's `normalize.less` sets `[hidden] { display: none; }` but bootstrap.min.css set `[hidden] { display: none !important; }` so we also need the `!important` here to be able to override the default hidden behavior on the sphinx rendered scikit-learn.org. See: https://github.com/scikit-learn/scikit-learn/issues/21755 */display: inline-block !important;position: relative;}#sk-container-id-1 div.sk-text-repr-fallback {display: none;}</style><div id=\"sk-container-id-1\" class=\"sk-top-container\"><div class=\"sk-text-repr-fallback\"><pre>RandomForestRegressor()</pre><b>In a Jupyter environment, please rerun this cell to show the HTML representation or trust the notebook. <br />On GitHub, the HTML representation is unable to render, please try loading this page with nbviewer.org.</b></div><div class=\"sk-container\" hidden><div class=\"sk-item\"><div class=\"sk-estimator sk-toggleable\"><input class=\"sk-toggleable__control sk-hidden--visually\" id=\"sk-estimator-id-1\" type=\"checkbox\" checked><label for=\"sk-estimator-id-1\" class=\"sk-toggleable__label sk-toggleable__label-arrow\">RandomForestRegressor</label><div class=\"sk-toggleable__content\"><pre>RandomForestRegressor()</pre></div></div></div></div></div>"
      ],
      "text/plain": [
       "RandomForestRegressor()"
      ]
     },
     "execution_count": 9,
     "metadata": {},
     "output_type": "execute_result"
    }
   ],
   "source": [
    "RF.fit(X_train, y_train)"
   ]
  },
  {
   "cell_type": "code",
   "execution_count": 10,
   "id": "c1930c54-2a78-49e9-8c9a-777fe7fbf3c9",
   "metadata": {},
   "outputs": [
    {
     "name": "stdout",
     "output_type": "stream",
     "text": [
      "Training score for Random Forest Regressor is 0.9765141078395235\n",
      "Testing score for Random Forest Regressor is 0.8869840972561485\n"
     ]
    }
   ],
   "source": [
    "print('Training score for Random Forest Regressor is',RF.score(X_train,y_train))\n",
    "print('Testing score for Random Forest Regressor is',RF.score(X_test,y_test))"
   ]
  },
  {
   "cell_type": "code",
   "execution_count": 13,
   "id": "1b53f0a2-ffe1-4e80-ba3f-4ebe5f835197",
   "metadata": {},
   "outputs": [
    {
     "data": {
      "text/plain": [
       "0.15455905553273805"
      ]
     },
     "execution_count": 13,
     "metadata": {},
     "output_type": "execute_result"
    }
   ],
   "source": [
    "RMSLE__ = mean_squared_log_error(y_test,RF.predict(X_test),squared=False)\n",
    "RMSLE__"
   ]
  },
  {
   "cell_type": "markdown",
   "id": "31398689-f371-457f-84de-100bc4bc26dd",
   "metadata": {},
   "source": [
    "## Hyper parametric Tuning -- Random Forest Regressor"
   ]
  },
  {
   "cell_type": "code",
   "execution_count": 14,
   "id": "36f32a51-12b0-4c13-abf7-418a9881f886",
   "metadata": {},
   "outputs": [],
   "source": [
    "random_params = {'n_estimators': [100,200,300,400,500,600],  \n",
    "               'max_features': [1.0,'sqrt', 'log2', None],  \n",
    "               'max_depth': [ 10, 15, 20, 25, 60, 70, 80, 90, 100], \n",
    "               'min_samples_split':  [2, 5, 10], \n",
    "               'min_samples_leaf': [1, 2, 4], \n",
    "               'bootstrap': [True, False]}"
   ]
  },
  {
   "cell_type": "code",
   "execution_count": 15,
   "id": "5f2b5a47-76ee-4eba-ae9a-d9d00d350d72",
   "metadata": {},
   "outputs": [],
   "source": [
    "hyper_tuning = RandomizedSearchCV(\n",
    "    estimator=RandomForestRegressor(),\n",
    "    param_distributions=random_params, \n",
    "    cv=KFold(n_splits=5,\n",
    "            shuffle=True,\n",
    "            random_state=42),\n",
    "    scoring=RMSLE,\n",
    "    n_iter=15,\n",
    "    verbose=5\n",
    ")"
   ]
  },
  {
   "cell_type": "code",
   "execution_count": 16,
   "id": "5bce731e-a6af-42e3-8e97-f22ded501a15",
   "metadata": {
    "collapsed": true,
    "jupyter": {
     "outputs_hidden": true
    },
    "tags": []
   },
   "outputs": [
    {
     "name": "stdout",
     "output_type": "stream",
     "text": [
      "Fitting 5 folds for each of 15 candidates, totalling 75 fits\n",
      "[CV 1/5] END bootstrap=True, max_depth=60, max_features=sqrt, min_samples_leaf=2, min_samples_split=2, n_estimators=400;, score=-0.157 total time=   1.1s\n",
      "[CV 2/5] END bootstrap=True, max_depth=60, max_features=sqrt, min_samples_leaf=2, min_samples_split=2, n_estimators=400;, score=-0.158 total time=   1.0s\n",
      "[CV 3/5] END bootstrap=True, max_depth=60, max_features=sqrt, min_samples_leaf=2, min_samples_split=2, n_estimators=400;, score=-0.179 total time=   1.0s\n",
      "[CV 4/5] END bootstrap=True, max_depth=60, max_features=sqrt, min_samples_leaf=2, min_samples_split=2, n_estimators=400;, score=-0.134 total time=   1.1s\n",
      "[CV 5/5] END bootstrap=True, max_depth=60, max_features=sqrt, min_samples_leaf=2, min_samples_split=2, n_estimators=400;, score=-0.132 total time=   1.0s\n",
      "[CV 1/5] END bootstrap=True, max_depth=10, max_features=None, min_samples_leaf=2, min_samples_split=5, n_estimators=600;, score=-0.148 total time=   8.8s\n",
      "[CV 2/5] END bootstrap=True, max_depth=10, max_features=None, min_samples_leaf=2, min_samples_split=5, n_estimators=600;, score=-0.151 total time=   9.1s\n",
      "[CV 3/5] END bootstrap=True, max_depth=10, max_features=None, min_samples_leaf=2, min_samples_split=5, n_estimators=600;, score=-0.183 total time=   8.7s\n",
      "[CV 4/5] END bootstrap=True, max_depth=10, max_features=None, min_samples_leaf=2, min_samples_split=5, n_estimators=600;, score=-0.133 total time=   8.9s\n",
      "[CV 5/5] END bootstrap=True, max_depth=10, max_features=None, min_samples_leaf=2, min_samples_split=5, n_estimators=600;, score=-0.132 total time=   9.2s\n",
      "[CV 1/5] END bootstrap=True, max_depth=60, max_features=sqrt, min_samples_leaf=4, min_samples_split=2, n_estimators=200;, score=-0.165 total time=   0.4s\n",
      "[CV 2/5] END bootstrap=True, max_depth=60, max_features=sqrt, min_samples_leaf=4, min_samples_split=2, n_estimators=200;, score=-0.164 total time=   0.4s\n",
      "[CV 3/5] END bootstrap=True, max_depth=60, max_features=sqrt, min_samples_leaf=4, min_samples_split=2, n_estimators=200;, score=-0.187 total time=   0.4s\n",
      "[CV 4/5] END bootstrap=True, max_depth=60, max_features=sqrt, min_samples_leaf=4, min_samples_split=2, n_estimators=200;, score=-0.143 total time=   0.4s\n",
      "[CV 5/5] END bootstrap=True, max_depth=60, max_features=sqrt, min_samples_leaf=4, min_samples_split=2, n_estimators=200;, score=-0.139 total time=   0.4s\n",
      "[CV 1/5] END bootstrap=True, max_depth=10, max_features=None, min_samples_leaf=4, min_samples_split=10, n_estimators=100;, score=-0.152 total time=   1.3s\n",
      "[CV 2/5] END bootstrap=True, max_depth=10, max_features=None, min_samples_leaf=4, min_samples_split=10, n_estimators=100;, score=-0.154 total time=   1.3s\n",
      "[CV 3/5] END bootstrap=True, max_depth=10, max_features=None, min_samples_leaf=4, min_samples_split=10, n_estimators=100;, score=-0.188 total time=   1.2s\n",
      "[CV 4/5] END bootstrap=True, max_depth=10, max_features=None, min_samples_leaf=4, min_samples_split=10, n_estimators=100;, score=-0.136 total time=   1.3s\n",
      "[CV 5/5] END bootstrap=True, max_depth=10, max_features=None, min_samples_leaf=4, min_samples_split=10, n_estimators=100;, score=-0.137 total time=   1.2s\n",
      "[CV 1/5] END bootstrap=True, max_depth=25, max_features=1.0, min_samples_leaf=2, min_samples_split=10, n_estimators=200;, score=-0.149 total time=   2.8s\n",
      "[CV 2/5] END bootstrap=True, max_depth=25, max_features=1.0, min_samples_leaf=2, min_samples_split=10, n_estimators=200;, score=-0.152 total time=   2.9s\n",
      "[CV 3/5] END bootstrap=True, max_depth=25, max_features=1.0, min_samples_leaf=2, min_samples_split=10, n_estimators=200;, score=-0.186 total time=   2.8s\n",
      "[CV 4/5] END bootstrap=True, max_depth=25, max_features=1.0, min_samples_leaf=2, min_samples_split=10, n_estimators=200;, score=-0.135 total time=   2.7s\n",
      "[CV 5/5] END bootstrap=True, max_depth=25, max_features=1.0, min_samples_leaf=2, min_samples_split=10, n_estimators=200;, score=-0.134 total time=   2.7s\n",
      "[CV 1/5] END bootstrap=True, max_depth=10, max_features=sqrt, min_samples_leaf=2, min_samples_split=10, n_estimators=100;, score=-0.166 total time=   0.1s\n",
      "[CV 2/5] END bootstrap=True, max_depth=10, max_features=sqrt, min_samples_leaf=2, min_samples_split=10, n_estimators=100;, score=-0.163 total time=   0.2s\n",
      "[CV 3/5] END bootstrap=True, max_depth=10, max_features=sqrt, min_samples_leaf=2, min_samples_split=10, n_estimators=100;, score=-0.187 total time=   0.1s\n",
      "[CV 4/5] END bootstrap=True, max_depth=10, max_features=sqrt, min_samples_leaf=2, min_samples_split=10, n_estimators=100;, score=-0.143 total time=   0.1s\n",
      "[CV 5/5] END bootstrap=True, max_depth=10, max_features=sqrt, min_samples_leaf=2, min_samples_split=10, n_estimators=100;, score=-0.137 total time=   0.1s\n",
      "[CV 1/5] END bootstrap=True, max_depth=15, max_features=log2, min_samples_leaf=4, min_samples_split=2, n_estimators=300;, score=-0.186 total time=   0.4s\n",
      "[CV 2/5] END bootstrap=True, max_depth=15, max_features=log2, min_samples_leaf=4, min_samples_split=2, n_estimators=300;, score=-0.186 total time=   0.4s\n",
      "[CV 3/5] END bootstrap=True, max_depth=15, max_features=log2, min_samples_leaf=4, min_samples_split=2, n_estimators=300;, score=-0.204 total time=   0.4s\n",
      "[CV 4/5] END bootstrap=True, max_depth=15, max_features=log2, min_samples_leaf=4, min_samples_split=2, n_estimators=300;, score=-0.164 total time=   0.5s\n",
      "[CV 5/5] END bootstrap=True, max_depth=15, max_features=log2, min_samples_leaf=4, min_samples_split=2, n_estimators=300;, score=-0.159 total time=   0.4s\n",
      "[CV 1/5] END bootstrap=False, max_depth=90, max_features=sqrt, min_samples_leaf=4, min_samples_split=5, n_estimators=600;, score=-0.158 total time=   1.4s\n",
      "[CV 2/5] END bootstrap=False, max_depth=90, max_features=sqrt, min_samples_leaf=4, min_samples_split=5, n_estimators=600;, score=-0.157 total time=   1.5s\n",
      "[CV 3/5] END bootstrap=False, max_depth=90, max_features=sqrt, min_samples_leaf=4, min_samples_split=5, n_estimators=600;, score=-0.181 total time=   1.5s\n",
      "[CV 4/5] END bootstrap=False, max_depth=90, max_features=sqrt, min_samples_leaf=4, min_samples_split=5, n_estimators=600;, score=-0.136 total time=   1.5s\n",
      "[CV 5/5] END bootstrap=False, max_depth=90, max_features=sqrt, min_samples_leaf=4, min_samples_split=5, n_estimators=600;, score=-0.131 total time=   1.5s\n",
      "[CV 1/5] END bootstrap=False, max_depth=90, max_features=1.0, min_samples_leaf=4, min_samples_split=10, n_estimators=500;, score=-0.178 total time=  10.8s\n",
      "[CV 2/5] END bootstrap=False, max_depth=90, max_features=1.0, min_samples_leaf=4, min_samples_split=10, n_estimators=500;, score=-0.200 total time=  11.3s\n",
      "[CV 3/5] END bootstrap=False, max_depth=90, max_features=1.0, min_samples_leaf=4, min_samples_split=10, n_estimators=500;, score=-0.219 total time=  10.6s\n",
      "[CV 4/5] END bootstrap=False, max_depth=90, max_features=1.0, min_samples_leaf=4, min_samples_split=10, n_estimators=500;, score=-0.184 total time=  11.8s\n",
      "[CV 5/5] END bootstrap=False, max_depth=90, max_features=1.0, min_samples_leaf=4, min_samples_split=10, n_estimators=500;, score=-0.180 total time=  11.6s\n",
      "[CV 1/5] END bootstrap=False, max_depth=90, max_features=None, min_samples_leaf=1, min_samples_split=5, n_estimators=200;, score=-0.183 total time=   5.9s\n",
      "[CV 2/5] END bootstrap=False, max_depth=90, max_features=None, min_samples_leaf=1, min_samples_split=5, n_estimators=200;, score=-0.213 total time=   5.8s\n",
      "[CV 3/5] END bootstrap=False, max_depth=90, max_features=None, min_samples_leaf=1, min_samples_split=5, n_estimators=200;, score=-0.218 total time=   6.0s\n",
      "[CV 4/5] END bootstrap=False, max_depth=90, max_features=None, min_samples_leaf=1, min_samples_split=5, n_estimators=200;, score=-0.193 total time=   5.9s\n",
      "[CV 5/5] END bootstrap=False, max_depth=90, max_features=None, min_samples_leaf=1, min_samples_split=5, n_estimators=200;, score=-0.174 total time=   5.5s\n",
      "[CV 1/5] END bootstrap=True, max_depth=90, max_features=None, min_samples_leaf=4, min_samples_split=2, n_estimators=200;, score=-0.150 total time=   2.8s\n",
      "[CV 2/5] END bootstrap=True, max_depth=90, max_features=None, min_samples_leaf=4, min_samples_split=2, n_estimators=200;, score=-0.152 total time=   2.8s\n",
      "[CV 3/5] END bootstrap=True, max_depth=90, max_features=None, min_samples_leaf=4, min_samples_split=2, n_estimators=200;, score=-0.187 total time=   2.7s\n",
      "[CV 4/5] END bootstrap=True, max_depth=90, max_features=None, min_samples_leaf=4, min_samples_split=2, n_estimators=200;, score=-0.135 total time=   2.7s\n",
      "[CV 5/5] END bootstrap=True, max_depth=90, max_features=None, min_samples_leaf=4, min_samples_split=2, n_estimators=200;, score=-0.132 total time=   2.7s\n",
      "[CV 1/5] END bootstrap=True, max_depth=100, max_features=sqrt, min_samples_leaf=2, min_samples_split=10, n_estimators=600;, score=-0.161 total time=   1.3s\n",
      "[CV 2/5] END bootstrap=True, max_depth=100, max_features=sqrt, min_samples_leaf=2, min_samples_split=10, n_estimators=600;, score=-0.162 total time=   1.3s\n",
      "[CV 3/5] END bootstrap=True, max_depth=100, max_features=sqrt, min_samples_leaf=2, min_samples_split=10, n_estimators=600;, score=-0.182 total time=   1.3s\n",
      "[CV 4/5] END bootstrap=True, max_depth=100, max_features=sqrt, min_samples_leaf=2, min_samples_split=10, n_estimators=600;, score=-0.138 total time=   1.3s\n",
      "[CV 5/5] END bootstrap=True, max_depth=100, max_features=sqrt, min_samples_leaf=2, min_samples_split=10, n_estimators=600;, score=-0.135 total time=   1.3s\n",
      "[CV 1/5] END bootstrap=False, max_depth=15, max_features=sqrt, min_samples_leaf=2, min_samples_split=5, n_estimators=600;, score=-0.151 total time=   1.7s\n",
      "[CV 2/5] END bootstrap=False, max_depth=15, max_features=sqrt, min_samples_leaf=2, min_samples_split=5, n_estimators=600;, score=-0.153 total time=   1.7s\n",
      "[CV 3/5] END bootstrap=False, max_depth=15, max_features=sqrt, min_samples_leaf=2, min_samples_split=5, n_estimators=600;, score=-0.174 total time=   1.7s\n",
      "[CV 4/5] END bootstrap=False, max_depth=15, max_features=sqrt, min_samples_leaf=2, min_samples_split=5, n_estimators=600;, score=-0.128 total time=   1.7s\n",
      "[CV 5/5] END bootstrap=False, max_depth=15, max_features=sqrt, min_samples_leaf=2, min_samples_split=5, n_estimators=600;, score=-0.127 total time=   1.7s\n",
      "[CV 1/5] END bootstrap=False, max_depth=15, max_features=None, min_samples_leaf=2, min_samples_split=5, n_estimators=300;, score=-0.189 total time=   7.7s\n",
      "[CV 2/5] END bootstrap=False, max_depth=15, max_features=None, min_samples_leaf=2, min_samples_split=5, n_estimators=300;, score=-0.214 total time=   7.9s\n",
      "[CV 3/5] END bootstrap=False, max_depth=15, max_features=None, min_samples_leaf=2, min_samples_split=5, n_estimators=300;, score=-0.232 total time=   7.6s\n",
      "[CV 4/5] END bootstrap=False, max_depth=15, max_features=None, min_samples_leaf=2, min_samples_split=5, n_estimators=300;, score=-0.192 total time=   8.1s\n",
      "[CV 5/5] END bootstrap=False, max_depth=15, max_features=None, min_samples_leaf=2, min_samples_split=5, n_estimators=300;, score=-0.177 total time=   7.9s\n",
      "[CV 1/5] END bootstrap=True, max_depth=60, max_features=log2, min_samples_leaf=4, min_samples_split=10, n_estimators=400;, score=-0.187 total time=   0.6s\n",
      "[CV 2/5] END bootstrap=True, max_depth=60, max_features=log2, min_samples_leaf=4, min_samples_split=10, n_estimators=400;, score=-0.185 total time=   0.6s\n",
      "[CV 3/5] END bootstrap=True, max_depth=60, max_features=log2, min_samples_leaf=4, min_samples_split=10, n_estimators=400;, score=-0.205 total time=   0.6s\n",
      "[CV 4/5] END bootstrap=True, max_depth=60, max_features=log2, min_samples_leaf=4, min_samples_split=10, n_estimators=400;, score=-0.165 total time=   0.6s\n",
      "[CV 5/5] END bootstrap=True, max_depth=60, max_features=log2, min_samples_leaf=4, min_samples_split=10, n_estimators=400;, score=-0.160 total time=   0.7s\n"
     ]
    },
    {
     "data": {
      "text/html": [
       "<style>#sk-container-id-2 {color: black;background-color: white;}#sk-container-id-2 pre{padding: 0;}#sk-container-id-2 div.sk-toggleable {background-color: white;}#sk-container-id-2 label.sk-toggleable__label {cursor: pointer;display: block;width: 100%;margin-bottom: 0;padding: 0.3em;box-sizing: border-box;text-align: center;}#sk-container-id-2 label.sk-toggleable__label-arrow:before {content: \"▸\";float: left;margin-right: 0.25em;color: #696969;}#sk-container-id-2 label.sk-toggleable__label-arrow:hover:before {color: black;}#sk-container-id-2 div.sk-estimator:hover label.sk-toggleable__label-arrow:before {color: black;}#sk-container-id-2 div.sk-toggleable__content {max-height: 0;max-width: 0;overflow: hidden;text-align: left;background-color: #f0f8ff;}#sk-container-id-2 div.sk-toggleable__content pre {margin: 0.2em;color: black;border-radius: 0.25em;background-color: #f0f8ff;}#sk-container-id-2 input.sk-toggleable__control:checked~div.sk-toggleable__content {max-height: 200px;max-width: 100%;overflow: auto;}#sk-container-id-2 input.sk-toggleable__control:checked~label.sk-toggleable__label-arrow:before {content: \"▾\";}#sk-container-id-2 div.sk-estimator input.sk-toggleable__control:checked~label.sk-toggleable__label {background-color: #d4ebff;}#sk-container-id-2 div.sk-label input.sk-toggleable__control:checked~label.sk-toggleable__label {background-color: #d4ebff;}#sk-container-id-2 input.sk-hidden--visually {border: 0;clip: rect(1px 1px 1px 1px);clip: rect(1px, 1px, 1px, 1px);height: 1px;margin: -1px;overflow: hidden;padding: 0;position: absolute;width: 1px;}#sk-container-id-2 div.sk-estimator {font-family: monospace;background-color: #f0f8ff;border: 1px dotted black;border-radius: 0.25em;box-sizing: border-box;margin-bottom: 0.5em;}#sk-container-id-2 div.sk-estimator:hover {background-color: #d4ebff;}#sk-container-id-2 div.sk-parallel-item::after {content: \"\";width: 100%;border-bottom: 1px solid gray;flex-grow: 1;}#sk-container-id-2 div.sk-label:hover label.sk-toggleable__label {background-color: #d4ebff;}#sk-container-id-2 div.sk-serial::before {content: \"\";position: absolute;border-left: 1px solid gray;box-sizing: border-box;top: 0;bottom: 0;left: 50%;z-index: 0;}#sk-container-id-2 div.sk-serial {display: flex;flex-direction: column;align-items: center;background-color: white;padding-right: 0.2em;padding-left: 0.2em;position: relative;}#sk-container-id-2 div.sk-item {position: relative;z-index: 1;}#sk-container-id-2 div.sk-parallel {display: flex;align-items: stretch;justify-content: center;background-color: white;position: relative;}#sk-container-id-2 div.sk-item::before, #sk-container-id-2 div.sk-parallel-item::before {content: \"\";position: absolute;border-left: 1px solid gray;box-sizing: border-box;top: 0;bottom: 0;left: 50%;z-index: -1;}#sk-container-id-2 div.sk-parallel-item {display: flex;flex-direction: column;z-index: 1;position: relative;background-color: white;}#sk-container-id-2 div.sk-parallel-item:first-child::after {align-self: flex-end;width: 50%;}#sk-container-id-2 div.sk-parallel-item:last-child::after {align-self: flex-start;width: 50%;}#sk-container-id-2 div.sk-parallel-item:only-child::after {width: 0;}#sk-container-id-2 div.sk-dashed-wrapped {border: 1px dashed gray;margin: 0 0.4em 0.5em 0.4em;box-sizing: border-box;padding-bottom: 0.4em;background-color: white;}#sk-container-id-2 div.sk-label label {font-family: monospace;font-weight: bold;display: inline-block;line-height: 1.2em;}#sk-container-id-2 div.sk-label-container {text-align: center;}#sk-container-id-2 div.sk-container {/* jupyter's `normalize.less` sets `[hidden] { display: none; }` but bootstrap.min.css set `[hidden] { display: none !important; }` so we also need the `!important` here to be able to override the default hidden behavior on the sphinx rendered scikit-learn.org. See: https://github.com/scikit-learn/scikit-learn/issues/21755 */display: inline-block !important;position: relative;}#sk-container-id-2 div.sk-text-repr-fallback {display: none;}</style><div id=\"sk-container-id-2\" class=\"sk-top-container\"><div class=\"sk-text-repr-fallback\"><pre>RandomizedSearchCV(cv=KFold(n_splits=5, random_state=42, shuffle=True),\n",
       "                   estimator=RandomForestRegressor(), n_iter=15,\n",
       "                   param_distributions={&#x27;bootstrap&#x27;: [True, False],\n",
       "                                        &#x27;max_depth&#x27;: [10, 15, 20, 25, 60, 70,\n",
       "                                                      80, 90, 100],\n",
       "                                        &#x27;max_features&#x27;: [1.0, &#x27;sqrt&#x27;, &#x27;log2&#x27;,\n",
       "                                                         None],\n",
       "                                        &#x27;min_samples_leaf&#x27;: [1, 2, 4],\n",
       "                                        &#x27;min_samples_split&#x27;: [2, 5, 10],\n",
       "                                        &#x27;n_estimators&#x27;: [100, 200, 300, 400,\n",
       "                                                         500, 600]},\n",
       "                   scoring=make_scorer(mean_squared_log_error, greater_is_better=False, squared=False),\n",
       "                   verbose=5)</pre><b>In a Jupyter environment, please rerun this cell to show the HTML representation or trust the notebook. <br />On GitHub, the HTML representation is unable to render, please try loading this page with nbviewer.org.</b></div><div class=\"sk-container\" hidden><div class=\"sk-item sk-dashed-wrapped\"><div class=\"sk-label-container\"><div class=\"sk-label sk-toggleable\"><input class=\"sk-toggleable__control sk-hidden--visually\" id=\"sk-estimator-id-2\" type=\"checkbox\" ><label for=\"sk-estimator-id-2\" class=\"sk-toggleable__label sk-toggleable__label-arrow\">RandomizedSearchCV</label><div class=\"sk-toggleable__content\"><pre>RandomizedSearchCV(cv=KFold(n_splits=5, random_state=42, shuffle=True),\n",
       "                   estimator=RandomForestRegressor(), n_iter=15,\n",
       "                   param_distributions={&#x27;bootstrap&#x27;: [True, False],\n",
       "                                        &#x27;max_depth&#x27;: [10, 15, 20, 25, 60, 70,\n",
       "                                                      80, 90, 100],\n",
       "                                        &#x27;max_features&#x27;: [1.0, &#x27;sqrt&#x27;, &#x27;log2&#x27;,\n",
       "                                                         None],\n",
       "                                        &#x27;min_samples_leaf&#x27;: [1, 2, 4],\n",
       "                                        &#x27;min_samples_split&#x27;: [2, 5, 10],\n",
       "                                        &#x27;n_estimators&#x27;: [100, 200, 300, 400,\n",
       "                                                         500, 600]},\n",
       "                   scoring=make_scorer(mean_squared_log_error, greater_is_better=False, squared=False),\n",
       "                   verbose=5)</pre></div></div></div><div class=\"sk-parallel\"><div class=\"sk-parallel-item\"><div class=\"sk-item\"><div class=\"sk-label-container\"><div class=\"sk-label sk-toggleable\"><input class=\"sk-toggleable__control sk-hidden--visually\" id=\"sk-estimator-id-3\" type=\"checkbox\" ><label for=\"sk-estimator-id-3\" class=\"sk-toggleable__label sk-toggleable__label-arrow\">estimator: RandomForestRegressor</label><div class=\"sk-toggleable__content\"><pre>RandomForestRegressor()</pre></div></div></div><div class=\"sk-serial\"><div class=\"sk-item\"><div class=\"sk-estimator sk-toggleable\"><input class=\"sk-toggleable__control sk-hidden--visually\" id=\"sk-estimator-id-4\" type=\"checkbox\" ><label for=\"sk-estimator-id-4\" class=\"sk-toggleable__label sk-toggleable__label-arrow\">RandomForestRegressor</label><div class=\"sk-toggleable__content\"><pre>RandomForestRegressor()</pre></div></div></div></div></div></div></div></div></div></div>"
      ],
      "text/plain": [
       "RandomizedSearchCV(cv=KFold(n_splits=5, random_state=42, shuffle=True),\n",
       "                   estimator=RandomForestRegressor(), n_iter=15,\n",
       "                   param_distributions={'bootstrap': [True, False],\n",
       "                                        'max_depth': [10, 15, 20, 25, 60, 70,\n",
       "                                                      80, 90, 100],\n",
       "                                        'max_features': [1.0, 'sqrt', 'log2',\n",
       "                                                         None],\n",
       "                                        'min_samples_leaf': [1, 2, 4],\n",
       "                                        'min_samples_split': [2, 5, 10],\n",
       "                                        'n_estimators': [100, 200, 300, 400,\n",
       "                                                         500, 600]},\n",
       "                   scoring=make_scorer(mean_squared_log_error, greater_is_better=False, squared=False),\n",
       "                   verbose=5)"
      ]
     },
     "execution_count": 16,
     "metadata": {},
     "output_type": "execute_result"
    }
   ],
   "source": [
    "hyper_tuning.fit(X_train,y_train)"
   ]
  },
  {
   "cell_type": "code",
   "execution_count": 22,
   "id": "d8f43109-73d0-4f3f-8535-ef882d4e0571",
   "metadata": {},
   "outputs": [
    {
     "data": {
      "text/plain": [
       "-0.1464770825966047"
      ]
     },
     "execution_count": 22,
     "metadata": {},
     "output_type": "execute_result"
    }
   ],
   "source": [
    "hyper_tuning.best_score_"
   ]
  },
  {
   "cell_type": "markdown",
   "id": "4f9b4b63-1f65-41bb-b8d9-8300e0b338e6",
   "metadata": {},
   "source": [
    "Selección de los mejores parametros de nuestro modelo para su posterior entrenamiento"
   ]
  },
  {
   "cell_type": "code",
   "execution_count": 17,
   "id": "d21da81c-194a-4a70-8aed-fdc508d163cc",
   "metadata": {},
   "outputs": [
    {
     "data": {
      "text/plain": [
       "{'n_estimators': 600,\n",
       " 'min_samples_split': 5,\n",
       " 'min_samples_leaf': 2,\n",
       " 'max_features': 'sqrt',\n",
       " 'max_depth': 15,\n",
       " 'bootstrap': False}"
      ]
     },
     "execution_count": 17,
     "metadata": {},
     "output_type": "execute_result"
    }
   ],
   "source": [
    "hyper_tuning.best_params_"
   ]
  },
  {
   "cell_type": "code",
   "execution_count": 18,
   "id": "afa39ddb-ea19-4e57-b060-0a035aa665fc",
   "metadata": {},
   "outputs": [],
   "source": [
    "RF_hyper_tuning = RandomForestRegressor(\n",
    "    n_estimators=600,\n",
    "    min_samples_split=5,\n",
    "    min_samples_leaf= 2,\n",
    "    max_features='sqrt',\n",
    "    max_depth=15,\n",
    "    bootstrap= False\n",
    ")"
   ]
  },
  {
   "cell_type": "code",
   "execution_count": 19,
   "id": "18464d57-216f-4f10-b792-8f541f4c0e03",
   "metadata": {},
   "outputs": [
    {
     "data": {
      "text/html": [
       "<style>#sk-container-id-3 {color: black;background-color: white;}#sk-container-id-3 pre{padding: 0;}#sk-container-id-3 div.sk-toggleable {background-color: white;}#sk-container-id-3 label.sk-toggleable__label {cursor: pointer;display: block;width: 100%;margin-bottom: 0;padding: 0.3em;box-sizing: border-box;text-align: center;}#sk-container-id-3 label.sk-toggleable__label-arrow:before {content: \"▸\";float: left;margin-right: 0.25em;color: #696969;}#sk-container-id-3 label.sk-toggleable__label-arrow:hover:before {color: black;}#sk-container-id-3 div.sk-estimator:hover label.sk-toggleable__label-arrow:before {color: black;}#sk-container-id-3 div.sk-toggleable__content {max-height: 0;max-width: 0;overflow: hidden;text-align: left;background-color: #f0f8ff;}#sk-container-id-3 div.sk-toggleable__content pre {margin: 0.2em;color: black;border-radius: 0.25em;background-color: #f0f8ff;}#sk-container-id-3 input.sk-toggleable__control:checked~div.sk-toggleable__content {max-height: 200px;max-width: 100%;overflow: auto;}#sk-container-id-3 input.sk-toggleable__control:checked~label.sk-toggleable__label-arrow:before {content: \"▾\";}#sk-container-id-3 div.sk-estimator input.sk-toggleable__control:checked~label.sk-toggleable__label {background-color: #d4ebff;}#sk-container-id-3 div.sk-label input.sk-toggleable__control:checked~label.sk-toggleable__label {background-color: #d4ebff;}#sk-container-id-3 input.sk-hidden--visually {border: 0;clip: rect(1px 1px 1px 1px);clip: rect(1px, 1px, 1px, 1px);height: 1px;margin: -1px;overflow: hidden;padding: 0;position: absolute;width: 1px;}#sk-container-id-3 div.sk-estimator {font-family: monospace;background-color: #f0f8ff;border: 1px dotted black;border-radius: 0.25em;box-sizing: border-box;margin-bottom: 0.5em;}#sk-container-id-3 div.sk-estimator:hover {background-color: #d4ebff;}#sk-container-id-3 div.sk-parallel-item::after {content: \"\";width: 100%;border-bottom: 1px solid gray;flex-grow: 1;}#sk-container-id-3 div.sk-label:hover label.sk-toggleable__label {background-color: #d4ebff;}#sk-container-id-3 div.sk-serial::before {content: \"\";position: absolute;border-left: 1px solid gray;box-sizing: border-box;top: 0;bottom: 0;left: 50%;z-index: 0;}#sk-container-id-3 div.sk-serial {display: flex;flex-direction: column;align-items: center;background-color: white;padding-right: 0.2em;padding-left: 0.2em;position: relative;}#sk-container-id-3 div.sk-item {position: relative;z-index: 1;}#sk-container-id-3 div.sk-parallel {display: flex;align-items: stretch;justify-content: center;background-color: white;position: relative;}#sk-container-id-3 div.sk-item::before, #sk-container-id-3 div.sk-parallel-item::before {content: \"\";position: absolute;border-left: 1px solid gray;box-sizing: border-box;top: 0;bottom: 0;left: 50%;z-index: -1;}#sk-container-id-3 div.sk-parallel-item {display: flex;flex-direction: column;z-index: 1;position: relative;background-color: white;}#sk-container-id-3 div.sk-parallel-item:first-child::after {align-self: flex-end;width: 50%;}#sk-container-id-3 div.sk-parallel-item:last-child::after {align-self: flex-start;width: 50%;}#sk-container-id-3 div.sk-parallel-item:only-child::after {width: 0;}#sk-container-id-3 div.sk-dashed-wrapped {border: 1px dashed gray;margin: 0 0.4em 0.5em 0.4em;box-sizing: border-box;padding-bottom: 0.4em;background-color: white;}#sk-container-id-3 div.sk-label label {font-family: monospace;font-weight: bold;display: inline-block;line-height: 1.2em;}#sk-container-id-3 div.sk-label-container {text-align: center;}#sk-container-id-3 div.sk-container {/* jupyter's `normalize.less` sets `[hidden] { display: none; }` but bootstrap.min.css set `[hidden] { display: none !important; }` so we also need the `!important` here to be able to override the default hidden behavior on the sphinx rendered scikit-learn.org. See: https://github.com/scikit-learn/scikit-learn/issues/21755 */display: inline-block !important;position: relative;}#sk-container-id-3 div.sk-text-repr-fallback {display: none;}</style><div id=\"sk-container-id-3\" class=\"sk-top-container\"><div class=\"sk-text-repr-fallback\"><pre>RandomForestRegressor(bootstrap=False, max_depth=15, max_features=&#x27;sqrt&#x27;,\n",
       "                      min_samples_leaf=2, min_samples_split=5,\n",
       "                      n_estimators=600)</pre><b>In a Jupyter environment, please rerun this cell to show the HTML representation or trust the notebook. <br />On GitHub, the HTML representation is unable to render, please try loading this page with nbviewer.org.</b></div><div class=\"sk-container\" hidden><div class=\"sk-item\"><div class=\"sk-estimator sk-toggleable\"><input class=\"sk-toggleable__control sk-hidden--visually\" id=\"sk-estimator-id-5\" type=\"checkbox\" checked><label for=\"sk-estimator-id-5\" class=\"sk-toggleable__label sk-toggleable__label-arrow\">RandomForestRegressor</label><div class=\"sk-toggleable__content\"><pre>RandomForestRegressor(bootstrap=False, max_depth=15, max_features=&#x27;sqrt&#x27;,\n",
       "                      min_samples_leaf=2, min_samples_split=5,\n",
       "                      n_estimators=600)</pre></div></div></div></div></div>"
      ],
      "text/plain": [
       "RandomForestRegressor(bootstrap=False, max_depth=15, max_features='sqrt',\n",
       "                      min_samples_leaf=2, min_samples_split=5,\n",
       "                      n_estimators=600)"
      ]
     },
     "execution_count": 19,
     "metadata": {},
     "output_type": "execute_result"
    }
   ],
   "source": [
    "RF_hyper_tuning.fit(X_train,y_train)"
   ]
  },
  {
   "cell_type": "code",
   "execution_count": 20,
   "id": "8a6cef49-320e-4d83-aa30-f28efcffd1af",
   "metadata": {},
   "outputs": [
    {
     "name": "stdout",
     "output_type": "stream",
     "text": [
      "Training score for Random Forest Regressor Hyper Parametric Tuning is  0.97786313793868\n",
      "Testing score for Random Forest Regressor Hyper Parametric Tuning is  0.8678176977515661\n"
     ]
    }
   ],
   "source": [
    "print('Training score for Random Forest Regressor Hyper Parametric Tuning is ',RF_hyper_tuning.score(X_train,y_train))\n",
    "print('Testing score for Random Forest Regressor Hyper Parametric Tuning is ',RF_hyper_tuning.score(X_test,y_test))"
   ]
  },
  {
   "cell_type": "markdown",
   "id": "890a197a-9342-47d5-99e4-8784759b7e38",
   "metadata": {},
   "source": [
    "### Esta es la metrica solicitada en el repositrio"
   ]
  },
  {
   "cell_type": "code",
   "execution_count": 21,
   "id": "68c601d5-9e0f-4664-a8a9-076d630556f9",
   "metadata": {},
   "outputs": [
    {
     "data": {
      "text/plain": [
       "0.16450827803067897"
      ]
     },
     "execution_count": 21,
     "metadata": {},
     "output_type": "execute_result"
    }
   ],
   "source": [
    "mean_squared_log_error(y_test, RF_hyper_tuning.predict(X_test), squared=False)"
   ]
  },
  {
   "cell_type": "markdown",
   "id": "2d65f2e3-cc1d-49d1-ba64-c81e7e8697c2",
   "metadata": {},
   "source": [
    "### CROSS VALIDATION"
   ]
  },
  {
   "cell_type": "markdown",
   "id": "7bdd93f8-78ef-4cca-a66a-a981f159293a",
   "metadata": {},
   "source": [
    "Se realizará un proceso de validación cruzada para evaluar el modelo con sobre diferentes formas de agrupar nuestros datos"
   ]
  },
  {
   "cell_type": "code",
   "execution_count": 23,
   "id": "65a527f1-835d-48e8-9a84-d2cd23df4306",
   "metadata": {},
   "outputs": [],
   "source": [
    "RF_score = cross_val_score(\n",
    "    RF_hyper_tuning, \n",
    "    X, \n",
    "    y, \n",
    "    cv=KFold(n_splits=5,\n",
    "             shuffle=True, \n",
    "             random_state=42), \n",
    "    scoring=RMSLE\n",
    ")"
   ]
  },
  {
   "cell_type": "markdown",
   "id": "7167be9b-87a7-42f1-a3c4-14eb9cf2011c",
   "metadata": {},
   "source": [
    "El valor final que se obtiene como promedio de la validacion cruzada realizada para nuestro dataset es 0.1477"
   ]
  },
  {
   "cell_type": "code",
   "execution_count": 24,
   "id": "a93d2680-a7bf-4a84-acad-110bdf63b065",
   "metadata": {},
   "outputs": [
    {
     "name": "stdout",
     "output_type": "stream",
     "text": [
      "RMSLE:  0.14775792510485347\n"
     ]
    }
   ],
   "source": [
    "print('RMSLE: ',np.abs(RF_score).mean())"
   ]
  },
  {
   "cell_type": "markdown",
   "id": "d835cf47-ed5d-42e2-88fc-ea33e22ca824",
   "metadata": {},
   "source": [
    "### SAVING THE MODEL"
   ]
  },
  {
   "cell_type": "markdown",
   "id": "69d14222-bf65-4418-9807-64aa01e88094",
   "metadata": {},
   "source": [
    "Guardo el modelo para que proximamente se pueda usar sin necesidad de volver a entrenarlo"
   ]
  },
  {
   "cell_type": "code",
   "execution_count": 25,
   "id": "fc3eddfe-0747-450b-bc97-2f39992aa053",
   "metadata": {},
   "outputs": [
    {
     "data": {
      "text/plain": [
       "['RF_hyper_tuning.joblib']"
      ]
     },
     "execution_count": 25,
     "metadata": {},
     "output_type": "execute_result"
    }
   ],
   "source": [
    "from joblib import dump, load\n",
    "dump(RF_hyper_tuning, 'RF_hyper_tuning.joblib') "
   ]
  },
  {
   "cell_type": "markdown",
   "id": "40047581-6dcb-4ad6-ba0e-73f58133ddbe",
   "metadata": {},
   "source": [
    "## SAVING RESULTS IN A CSV"
   ]
  },
  {
   "cell_type": "markdown",
   "id": "fb28767a-c160-40ee-9305-1c7d01847263",
   "metadata": {},
   "source": [
    "Por ultimo genero y almaceno las predicciones de mi modelo sobre los datos de prueba proporcionados en el repositorio"
   ]
  },
  {
   "cell_type": "code",
   "execution_count": 32,
   "id": "61d9b9d8-ab96-4985-8e8a-6a3aa775956d",
   "metadata": {},
   "outputs": [
    {
     "data": {
      "text/plain": [
       "array([146404.00292507, 125600.76808889, 153379.49994751, ...,\n",
       "       163989.85434769, 122081.44192393, 225336.20158483])"
      ]
     },
     "execution_count": 32,
     "metadata": {},
     "output_type": "execute_result"
    }
   ],
   "source": [
    "pred_test = RF_hyper_tuning.predict(data_test)\n",
    "pred_test"
   ]
  },
  {
   "cell_type": "code",
   "execution_count": 33,
   "id": "0ddadbae-9da0-40e2-8cc0-5ce9f45fa737",
   "metadata": {},
   "outputs": [
    {
     "data": {
      "text/html": [
       "<div>\n",
       "<style scoped>\n",
       "    .dataframe tbody tr th:only-of-type {\n",
       "        vertical-align: middle;\n",
       "    }\n",
       "\n",
       "    .dataframe tbody tr th {\n",
       "        vertical-align: top;\n",
       "    }\n",
       "\n",
       "    .dataframe thead th {\n",
       "        text-align: right;\n",
       "    }\n",
       "</style>\n",
       "<table border=\"1\" class=\"dataframe\">\n",
       "  <thead>\n",
       "    <tr style=\"text-align: right;\">\n",
       "      <th></th>\n",
       "      <th>pred</th>\n",
       "    </tr>\n",
       "  </thead>\n",
       "  <tbody>\n",
       "    <tr>\n",
       "      <th>0</th>\n",
       "      <td>146404.002925</td>\n",
       "    </tr>\n",
       "    <tr>\n",
       "      <th>1</th>\n",
       "      <td>125600.768089</td>\n",
       "    </tr>\n",
       "    <tr>\n",
       "      <th>2</th>\n",
       "      <td>153379.499948</td>\n",
       "    </tr>\n",
       "    <tr>\n",
       "      <th>3</th>\n",
       "      <td>184266.335164</td>\n",
       "    </tr>\n",
       "    <tr>\n",
       "      <th>4</th>\n",
       "      <td>193603.538561</td>\n",
       "    </tr>\n",
       "    <tr>\n",
       "      <th>...</th>\n",
       "      <td>...</td>\n",
       "    </tr>\n",
       "    <tr>\n",
       "      <th>1455</th>\n",
       "      <td>92371.735323</td>\n",
       "    </tr>\n",
       "    <tr>\n",
       "      <th>1456</th>\n",
       "      <td>95087.846853</td>\n",
       "    </tr>\n",
       "    <tr>\n",
       "      <th>1457</th>\n",
       "      <td>163989.854348</td>\n",
       "    </tr>\n",
       "    <tr>\n",
       "      <th>1458</th>\n",
       "      <td>122081.441924</td>\n",
       "    </tr>\n",
       "    <tr>\n",
       "      <th>1459</th>\n",
       "      <td>225336.201585</td>\n",
       "    </tr>\n",
       "  </tbody>\n",
       "</table>\n",
       "<p>1460 rows × 1 columns</p>\n",
       "</div>"
      ],
      "text/plain": [
       "               pred\n",
       "0     146404.002925\n",
       "1     125600.768089\n",
       "2     153379.499948\n",
       "3     184266.335164\n",
       "4     193603.538561\n",
       "...             ...\n",
       "1455   92371.735323\n",
       "1456   95087.846853\n",
       "1457  163989.854348\n",
       "1458  122081.441924\n",
       "1459  225336.201585\n",
       "\n",
       "[1460 rows x 1 columns]"
      ]
     },
     "execution_count": 33,
     "metadata": {},
     "output_type": "execute_result"
    }
   ],
   "source": [
    "pred_test_df = pd.DataFrame(\n",
    "    {\n",
    "        \"pred\": pred_test\n",
    "    }\n",
    ")\n",
    "pred_test_df"
   ]
  },
  {
   "cell_type": "code",
   "execution_count": null,
   "id": "c8b4a404-b87b-4cd7-a90a-e678ce074839",
   "metadata": {},
   "outputs": [],
   "source": [
    "pred_test_df.to_csv(\"pred_test.csv\", index=False)"
   ]
  }
 ],
 "metadata": {
  "kernelspec": {
   "display_name": "Python 3 (ipykernel)",
   "language": "python",
   "name": "python3"
  },
  "language_info": {
   "codemirror_mode": {
    "name": "ipython",
    "version": 3
   },
   "file_extension": ".py",
   "mimetype": "text/x-python",
   "name": "python",
   "nbconvert_exporter": "python",
   "pygments_lexer": "ipython3",
   "version": "3.10.5"
  },
  "vscode": {
   "interpreter": {
    "hash": "17cd659d4b946f467e6f39eb7a87414c3ea3a2397b400b21b7eb7ad5af13233c"
   }
  }
 },
 "nbformat": 4,
 "nbformat_minor": 5
}
