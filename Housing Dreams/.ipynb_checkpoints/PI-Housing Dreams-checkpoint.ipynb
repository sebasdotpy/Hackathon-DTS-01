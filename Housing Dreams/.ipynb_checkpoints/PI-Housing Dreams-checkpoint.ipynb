{
 "cells": [
  {
   "cell_type": "markdown",
   "id": "92aa2b24-0555-4e48-84d2-196c2a1e7dc8",
   "metadata": {},
   "source": [
    "# HOUSE PRICE PREDICTION"
   ]
  },
  {
   "cell_type": "markdown",
   "id": "526ce72d-5497-4500-b255-cca46fcaf13e",
   "metadata": {},
   "source": [
    "## Librerias a usar\n",
    "\n",
    "Importo las librerias que se usaran en la solucion del reto"
   ]
  },
  {
   "cell_type": "code",
   "execution_count": null,
   "id": "1f002352-36a1-45ff-82a7-87868c0ca0fd",
   "metadata": {},
   "outputs": [],
   "source": [
    "import numpy as np\n",
    "import pandas as pd\n",
    "from sklearn.pipeline import Pipeline\n",
    "from sklearn.model_selection import train_test_split, GridSearchCV, KFold, cross_val_score\n",
    "from sklearn.preprocessing import StandardScaler\n",
    "from sklearn.model_selection import RandomizedSearchCV\n",
    "from sklearn.metrics import mean_squared_log_error,  make_scorer\n",
    "\n",
    "RMSLE = make_scorer(mean_squared_log_error, greater_is_better=False, squared=False)\n",
    "\n",
    "from sklearn.linear_model import LinearRegression\n",
    "from sklearn.ensemble import RandomForestRegressor\n",
    "\n",
    "%matplotlib inline"
   ]
  },
  {
   "cell_type": "markdown",
   "id": "6f56f92a-cc31-4ffa-bbf3-ff7f5af068a3",
   "metadata": {},
   "source": [
    "## Extraccion de los Dataframes"
   ]
  },
  {
   "cell_type": "code",
   "execution_count": null,
   "id": "54c1d242-335e-4ad6-84fa-b6e4a3cee3b1",
   "metadata": {},
   "outputs": [],
   "source": [
    "df_test = pd.read_csv(\"houses_test_raw.csv\")\n",
    "df_train = pd.read_csv(\"house_train_raw.csv\")\n",
    "df_train"
   ]
  },
  {
   "cell_type": "markdown",
   "id": "30465202-e549-4e85-84ec-04e21af01226",
   "metadata": {},
   "source": [
    "## Transformacion de los datos"
   ]
  },
  {
   "cell_type": "markdown",
   "id": "c589272d-c1fb-4e1f-b38c-ff2830b626cc",
   "metadata": {},
   "source": [
    "Cree funciones para eliminar los features que contengan mayor cantidad de valores perdidos</br>\n",
    "así como tambien una funcion de preprocesamiento en donde se insertan los datos en crudo y</br>\n",
    "los devuelve estandarizados y en valores numericos"
   ]
  },
  {
   "cell_type": "code",
   "execution_count": null,
   "id": "fa81ac2f-cf8f-4d47-93ce-d7da6454a17a",
   "metadata": {},
   "outputs": [],
   "source": [
    "def percentage_of_missing_values(df_train, df_test):\n",
    "    # Remove the ID and label columns\n",
    "    target = 'SalePrice'\n",
    "    features = pd.concat(\n",
    "        (df_train.drop(columns=['Id', target]),\n",
    "         df_test.drop(columns=['Id']))\n",
    "    )\n",
    "    top_missing = features.isnull().sum()/len(features)*100\n",
    "    return top_missing.sort_values(ascending=False)[:4]\n",
    "\n",
    "df_train.drop(columns=list(percentage_of_missing_values(df_train, df_test).index), inplace=True)\n",
    "df_test.drop(columns=list(percentage_of_missing_values(df_train, df_test).index), inplace=True)"
   ]
  },
  {
   "cell_type": "code",
   "execution_count": null,
   "id": "3445740c-e7ef-4c92-8063-41cb63fe2820",
   "metadata": {},
   "outputs": [],
   "source": [
    "def preprocess(df_train, df_test):\n",
    "    # Remove the ID and label columns\n",
    "    target = 'SalePrice'\n",
    "    features = pd.concat(\n",
    "        (df_train.drop(columns=['Id', target]),\n",
    "         df_test.drop(columns=['Id']))\n",
    "    )\n",
    "    # Standardize numerical columns\n",
    "    numeric_features = features.dtypes[features.dtypes != 'object'].index\n",
    "    standar_scaler = StandardScaler()\n",
    "    features[numeric_features] = standar_scaler.fit_transform(features[numeric_features])\n",
    "\n",
    "    # Replace NAN numerical features by 0\n",
    "    features[numeric_features] = features[numeric_features].fillna(0)\n",
    "    \n",
    "    # Replace discrete features by one-hot encoding.      \n",
    "    features = pd.get_dummies(features, dummy_na=True)\n",
    "\n",
    "    # Save preprocessed features\n",
    "    df_train_new = features[:df_train.shape[0]].copy()\n",
    "    df_train_new[target] = df_train[target]\n",
    "    df_test_new = features[df_test.shape[0]:].copy()\n",
    "    \n",
    "    return df_train_new, df_test_new"
   ]
  },
  {
   "cell_type": "code",
   "execution_count": null,
   "id": "fac96822-e040-4469-8438-1d0bb0ae7994",
   "metadata": {},
   "outputs": [],
   "source": [
    "data_train, data_test = preprocess(df_train, df_test)\n",
    "data_train.head()"
   ]
  },
  {
   "cell_type": "markdown",
   "id": "6b8e3121-50c0-464f-b574-072146e06ec3",
   "metadata": {},
   "source": [
    "Separados los datos en inputs y output"
   ]
  },
  {
   "cell_type": "code",
   "execution_count": null,
   "id": "e4e74eea-4131-487b-9b5b-54df31fa6324",
   "metadata": {},
   "outputs": [],
   "source": [
    "X = data_train.drop(columns=[\"SalePrice\"])\n",
    "y = data_train[\"SalePrice\"]"
   ]
  },
  {
   "cell_type": "code",
   "execution_count": null,
   "id": "ceee7f33-3a6f-489e-9954-0e94999685ec",
   "metadata": {},
   "outputs": [],
   "source": [
    "X_train, X_test, y_train, y_test = train_test_split(X, y, random_state=42, train_size=0.8)"
   ]
  },
  {
   "cell_type": "markdown",
   "id": "e9f109d6-7f0c-47da-a3c1-a2c383f169da",
   "metadata": {},
   "source": [
    "## RANDOM FOREST REGRESSOR"
   ]
  },
  {
   "cell_type": "markdown",
   "id": "827b22c8-b196-42a6-83cc-0797a661657f",
   "metadata": {},
   "source": [
    "Como modelo para dar solucion a este reto elegí RandomForestRegressor de scikit-learn</br>\n",
    "ya que dada la naturaleza de nuestros datos me parecio la mejor elección sobre una </br>\n",
    "regresion lineal u otros métodos"
   ]
  },
  {
   "cell_type": "code",
   "execution_count": null,
   "id": "4394e1ae-de7d-4666-b23d-6257014c06b9",
   "metadata": {},
   "outputs": [],
   "source": [
    "RF = RandomForestRegressor()"
   ]
  },
  {
   "cell_type": "code",
   "execution_count": null,
   "id": "9cc12382-85f5-42e1-a60b-dea6e9638cb8",
   "metadata": {},
   "outputs": [],
   "source": [
    "RF.fit(X_train, y_train)"
   ]
  },
  {
   "cell_type": "code",
   "execution_count": null,
   "id": "c1930c54-2a78-49e9-8c9a-777fe7fbf3c9",
   "metadata": {},
   "outputs": [],
   "source": [
    "print('Training score for Random Forest Regressor is',RF.score(X_train,y_train))\n",
    "print('Testing score for Random Forest Regressor is',RF.score(X_test,y_test))"
   ]
  },
  {
   "cell_type": "code",
   "execution_count": null,
   "id": "1b53f0a2-ffe1-4e80-ba3f-4ebe5f835197",
   "metadata": {},
   "outputs": [],
   "source": [
    "RMSLE__ = mean_squared_log_error(y_test,RF.predict(X_test),squared=False)\n",
    "RMSLE__"
   ]
  },
  {
   "cell_type": "markdown",
   "id": "31398689-f371-457f-84de-100bc4bc26dd",
   "metadata": {},
   "source": [
    "## Hyper parametric Tuning -- Random Forest Regressor"
   ]
  },
  {
   "cell_type": "code",
   "execution_count": null,
   "id": "36f32a51-12b0-4c13-abf7-418a9881f886",
   "metadata": {},
   "outputs": [],
   "source": [
    "random_params = {'n_estimators': [100,200,300,400,500,600],  \n",
    "               'max_features': [1.0,'sqrt', 'log2', None],  \n",
    "               'max_depth': [ 10, 15, 20, 25, 60, 70, 80, 90, 100], \n",
    "               'min_samples_split':  [2, 5, 10], \n",
    "               'min_samples_leaf': [1, 2, 4], \n",
    "               'bootstrap': [True, False]}"
   ]
  },
  {
   "cell_type": "code",
   "execution_count": null,
   "id": "5f2b5a47-76ee-4eba-ae9a-d9d00d350d72",
   "metadata": {},
   "outputs": [],
   "source": [
    "hyper_tuning = RandomizedSearchCV(\n",
    "    estimator=RandomForestRegressor(),\n",
    "    param_distributions=random_params, \n",
    "    cv=KFold(n_splits=5,\n",
    "            shuffle=True,\n",
    "            random_state=42),\n",
    "    scoring=RMSLE,\n",
    "    n_iter=15,\n",
    "    verbose=5\n",
    ")"
   ]
  },
  {
   "cell_type": "code",
   "execution_count": null,
   "id": "5bce731e-a6af-42e3-8e97-f22ded501a15",
   "metadata": {
    "tags": []
   },
   "outputs": [],
   "source": [
    "hyper_tuning.fit(X_train,y_train)"
   ]
  },
  {
   "cell_type": "code",
   "execution_count": null,
   "id": "d8f43109-73d0-4f3f-8535-ef882d4e0571",
   "metadata": {},
   "outputs": [],
   "source": [
    "hyper_tuning.best_score_"
   ]
  },
  {
   "cell_type": "markdown",
   "id": "4f9b4b63-1f65-41bb-b8d9-8300e0b338e6",
   "metadata": {},
   "source": [
    "Selección de los mejores parametros de nuestro modelo para su posterior entrenamiento"
   ]
  },
  {
   "cell_type": "code",
   "execution_count": null,
   "id": "d21da81c-194a-4a70-8aed-fdc508d163cc",
   "metadata": {},
   "outputs": [],
   "source": [
    "hyper_tuning.best_params_"
   ]
  },
  {
   "cell_type": "code",
   "execution_count": null,
   "id": "afa39ddb-ea19-4e57-b060-0a035aa665fc",
   "metadata": {},
   "outputs": [],
   "source": [
    "RF_hyper_tuning = RandomForestRegressor(\n",
    "    n_estimators=600,\n",
    "    min_samples_split=5,\n",
    "    min_samples_leaf= 2,\n",
    "    max_features='sqrt',\n",
    "    max_depth=15,\n",
    "    bootstrap= False\n",
    ")"
   ]
  },
  {
   "cell_type": "code",
   "execution_count": null,
   "id": "18464d57-216f-4f10-b792-8f541f4c0e03",
   "metadata": {},
   "outputs": [],
   "source": [
    "RF_hyper_tuning.fit(X_train,y_train)"
   ]
  },
  {
   "cell_type": "code",
   "execution_count": null,
   "id": "8a6cef49-320e-4d83-aa30-f28efcffd1af",
   "metadata": {},
   "outputs": [],
   "source": [
    "print('Training score for Random Forest Regressor Hyper Parametric Tuning is ',RF_hyper_tuning.score(X_train,y_train))\n",
    "print('Testing score for Random Forest Regressor Hyper Parametric Tuning is ',RF_hyper_tuning.score(X_test,y_test))"
   ]
  },
  {
   "cell_type": "markdown",
   "id": "890a197a-9342-47d5-99e4-8784759b7e38",
   "metadata": {},
   "source": [
    "### Esta es la metrica solicitada en el repositrio"
   ]
  },
  {
   "cell_type": "code",
   "execution_count": null,
   "id": "68c601d5-9e0f-4664-a8a9-076d630556f9",
   "metadata": {},
   "outputs": [],
   "source": [
    "mean_squared_log_error(y_test, RF_hyper_tuning.predict(X_test), squared=False)"
   ]
  },
  {
   "cell_type": "markdown",
   "id": "2d65f2e3-cc1d-49d1-ba64-c81e7e8697c2",
   "metadata": {},
   "source": [
    "### CROSS VALIDATION"
   ]
  },
  {
   "cell_type": "markdown",
   "id": "7bdd93f8-78ef-4cca-a66a-a981f159293a",
   "metadata": {},
   "source": [
    "Se realizará un proceso de validación cruzada para evaluar el modelo con sobre diferentes formas de agrupar nuestros datos"
   ]
  },
  {
   "cell_type": "code",
   "execution_count": null,
   "id": "65a527f1-835d-48e8-9a84-d2cd23df4306",
   "metadata": {},
   "outputs": [],
   "source": [
    "RF_score = cross_val_score(\n",
    "    RF_hyper_tuning, \n",
    "    X, \n",
    "    y, \n",
    "    cv=KFold(n_splits=5,\n",
    "             shuffle=True, \n",
    "             random_state=42), \n",
    "    scoring=RMSLE\n",
    ")"
   ]
  },
  {
   "cell_type": "markdown",
   "id": "7167be9b-87a7-42f1-a3c4-14eb9cf2011c",
   "metadata": {},
   "source": [
    "El valor final que se obtiene como promedio de la validacion cruzada realizada para nuestro dataset es 0.1477"
   ]
  },
  {
   "cell_type": "code",
   "execution_count": null,
   "id": "a93d2680-a7bf-4a84-acad-110bdf63b065",
   "metadata": {},
   "outputs": [],
   "source": [
    "print('RMSLE: ',np.abs(RF_score).mean())"
   ]
  },
  {
   "cell_type": "markdown",
   "id": "d835cf47-ed5d-42e2-88fc-ea33e22ca824",
   "metadata": {},
   "source": [
    "### SAVING THE MODEL"
   ]
  },
  {
   "cell_type": "markdown",
   "id": "69d14222-bf65-4418-9807-64aa01e88094",
   "metadata": {},
   "source": [
    "Guardo el modelo para que proximamente se pueda usar sin necesidad de volver a entrenarlo"
   ]
  },
  {
   "cell_type": "code",
   "execution_count": null,
   "id": "fc3eddfe-0747-450b-bc97-2f39992aa053",
   "metadata": {},
   "outputs": [],
   "source": [
    "from joblib import dump, load\n",
    "dump(RF_hyper_tuning, 'RF_hyper_tuning.joblib') "
   ]
  },
  {
   "cell_type": "markdown",
   "id": "40047581-6dcb-4ad6-ba0e-73f58133ddbe",
   "metadata": {},
   "source": [
    "## SAVING RESULTS IN A CSV"
   ]
  },
  {
   "cell_type": "markdown",
   "id": "fb28767a-c160-40ee-9305-1c7d01847263",
   "metadata": {},
   "source": [
    "Por ultimo genero y almaceno las predicciones de mi modelo sobre los datos de prueba proporcionados en el repositorio"
   ]
  },
  {
   "cell_type": "code",
   "execution_count": null,
   "id": "61d9b9d8-ab96-4985-8e8a-6a3aa775956d",
   "metadata": {},
   "outputs": [],
   "source": [
    "pred_test = RF_hyper_tuning.predict(data_test)\n",
    "pred_test"
   ]
  },
  {
   "cell_type": "code",
   "execution_count": null,
   "id": "0ddadbae-9da0-40e2-8cc0-5ce9f45fa737",
   "metadata": {},
   "outputs": [],
   "source": [
    "pred_test_df = pd.DataFrame(\n",
    "    {\n",
    "        \"pred\": pred_test\n",
    "    }\n",
    ")\n",
    "pred_test_df"
   ]
  },
  {
   "cell_type": "code",
   "execution_count": null,
   "id": "c8b4a404-b87b-4cd7-a90a-e678ce074839",
   "metadata": {},
   "outputs": [],
   "source": [
    "pred_test_df.to_csv(\"pred_test.csv\", index=False)"
   ]
  }
 ],
 "metadata": {
  "kernelspec": {
   "display_name": "Python 3 (ipykernel)",
   "language": "python",
   "name": "python3"
  },
  "language_info": {
   "codemirror_mode": {
    "name": "ipython",
    "version": 3
   },
   "file_extension": ".py",
   "mimetype": "text/x-python",
   "name": "python",
   "nbconvert_exporter": "python",
   "pygments_lexer": "ipython3",
   "version": "3.10.5"
  },
  "vscode": {
   "interpreter": {
    "hash": "17cd659d4b946f467e6f39eb7a87414c3ea3a2397b400b21b7eb7ad5af13233c"
   }
  }
 },
 "nbformat": 4,
 "nbformat_minor": 5
}
